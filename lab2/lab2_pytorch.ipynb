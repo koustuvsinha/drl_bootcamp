{
 "cells": [
  {
   "cell_type": "code",
   "execution_count": 1,
   "metadata": {
    "collapsed": true
   },
   "outputs": [],
   "source": [
    "import torch\n",
    "import torch.nn as nn\n",
    "import torch.nn.functional as F\n",
    "import torch.optim as optim\n",
    "from torch.autograd import Variable\n",
    "import numpy as np"
   ]
  },
  {
   "cell_type": "code",
   "execution_count": 2,
   "metadata": {
    "collapsed": true
   },
   "outputs": [],
   "source": [
    "%matplotlib inline\n",
    "\n",
    "import matplotlib\n",
    "import matplotlib.pyplot as plt"
   ]
  },
  {
   "cell_type": "code",
   "execution_count": 3,
   "metadata": {},
   "outputs": [
    {
     "data": {
      "image/png": "[encoded data removed]",
      "text/plain": [
       "<matplotlib.figure.Figure at 0x1026a5c88>"
      ]
     },
     "metadata": {},
     "output_type": "display_data"
    }
   ],
   "source": [
    "# first generate some observations\n",
    "true_a = 1.3\n",
    "true_b = 0.4\n",
    "data_x = (np.arange(100) / 99.0 - .5).astype(np.float32)\n",
    "data_y = (data_x * true_a + true_b + np.random.randn(*data_x.shape) * 0.1).astype(np.float32)\n",
    "_ = plt.scatter(data_x, data_y, c='b')"
   ]
  },
  {
   "cell_type": "code",
   "execution_count": 4,
   "metadata": {
    "collapsed": true
   },
   "outputs": [],
   "source": [
    "model = nn.Linear(1,1)"
   ]
  },
  {
   "cell_type": "code",
   "execution_count": 5,
   "metadata": {},
   "outputs": [
    {
     "data": {
      "text/plain": [
       "Parameter containing:\n",
       " 0.5209\n",
       "[torch.FloatTensor of size 1x1]"
      ]
     },
     "execution_count": 5,
     "metadata": {},
     "output_type": "execute_result"
    }
   ],
   "source": [
    "model.weight"
   ]
  },
  {
   "cell_type": "code",
   "execution_count": 6,
   "metadata": {},
   "outputs": [
    {
     "data": {
      "text/plain": [
       "Parameter containing:\n",
       "-0.2180\n",
       "[torch.FloatTensor of size 1]"
      ]
     },
     "execution_count": 6,
     "metadata": {},
     "output_type": "execute_result"
    }
   ],
   "source": [
    "model.bias"
   ]
  },
  {
   "cell_type": "code",
   "execution_count": 7,
   "metadata": {
    "collapsed": true
   },
   "outputs": [],
   "source": [
    "var_result = model.weight + 123"
   ]
  },
  {
   "cell_type": "code",
   "execution_count": 8,
   "metadata": {},
   "outputs": [
    {
     "data": {
      "text/plain": [
       "Variable containing:\n",
       " 123.5209\n",
       "[torch.FloatTensor of size 1x1]"
      ]
     },
     "execution_count": 8,
     "metadata": {},
     "output_type": "execute_result"
    }
   ],
   "source": [
    "var_result"
   ]
  },
  {
   "cell_type": "code",
   "execution_count": 9,
   "metadata": {},
   "outputs": [
    {
     "data": {
      "text/plain": [
       "\n",
       " 123.5209\n",
       "[torch.FloatTensor of size 1x1]"
      ]
     },
     "execution_count": 9,
     "metadata": {},
     "output_type": "execute_result"
    }
   ],
   "source": [
    "var_result.data"
   ]
  },
  {
   "cell_type": "code",
   "execution_count": 10,
   "metadata": {},
   "outputs": [
    {
     "data": {
      "text/plain": [
       "\n",
       " 0.5209\n",
       "[torch.FloatTensor of size 1x1]"
      ]
     },
     "execution_count": 10,
     "metadata": {},
     "output_type": "execute_result"
    }
   ],
   "source": [
    "model.weight.data"
   ]
  },
  {
   "cell_type": "code",
   "execution_count": 11,
   "metadata": {
    "collapsed": true
   },
   "outputs": [],
   "source": [
    "model_y = model(Variable(torch.from_numpy(data_x[:, None]))) "
   ]
  },
  {
   "cell_type": "code",
   "execution_count": 12,
   "metadata": {},
   "outputs": [
    {
     "data": {
      "image/png": "[encoded data removed]",
      "text/plain": [
       "<matplotlib.figure.Figure at 0x105d4b710>"
      ]
     },
     "metadata": {},
     "output_type": "display_data"
    }
   ],
   "source": [
    "_ = plt.plot(data_x, model_y.data.numpy()[:,0], c='r')\n",
    "_ = plt.scatter(data_x, data_y, c='b')\n",
    "_ = plt.title(\"Initial model\")"
   ]
  },
  {
   "cell_type": "code",
   "execution_count": 13,
   "metadata": {
    "collapsed": true
   },
   "outputs": [],
   "source": [
    "data_y_v = Variable(torch.from_numpy(data_y))\n",
    "loss_criterion = nn.MSELoss()\n",
    "loss = loss_criterion(model_y, data_y_v)"
   ]
  },
  {
   "cell_type": "code",
   "execution_count": 14,
   "metadata": {
    "collapsed": true
   },
   "outputs": [],
   "source": [
    "loss.backward()"
   ]
  },
  {
   "cell_type": "code",
   "execution_count": 16,
   "metadata": {},
   "outputs": [
    {
     "name": "stdout",
     "output_type": "stream",
     "text": [
      "dloss/dW : Variable containing:\n",
      "-0.1312\n",
      "[torch.FloatTensor of size 1x1]\n",
      "\n"
     ]
    }
   ],
   "source": [
    "print(\"dloss/dW : {}\".format(model.weight.grad))"
   ]
  },
  {
   "cell_type": "code",
   "execution_count": 17,
   "metadata": {},
   "outputs": [
    {
     "ename": "NameError",
     "evalue": "name 'data_x_v' is not defined",
     "output_type": "error",
     "traceback": [
      "\u001b[0;31m---------------------------------------------------------------------------\u001b[0m",
      "\u001b[0;31mNameError\u001b[0m                                 Traceback (most recent call last)",
      "\u001b[0;32m<ipython-input-17-394c883254d9>\u001b[0m in \u001b[0;36m<module>\u001b[0;34m()\u001b[0m\n\u001b[0;32m----> 1\u001b[0;31m \u001b[0mtype\u001b[0m\u001b[0;34m(\u001b[0m\u001b[0mmodel\u001b[0m\u001b[0;34m(\u001b[0m\u001b[0mdata_x_v\u001b[0m\u001b[0;34m)\u001b[0m\u001b[0;34m)\u001b[0m\u001b[0;34m\u001b[0m\u001b[0m\n\u001b[0m",
      "\u001b[0;31mNameError\u001b[0m: name 'data_x_v' is not defined"
     ]
    }
   ],
   "source": [
    "type(model(data_x_v))"
   ]
  },
  {
   "cell_type": "code",
   "execution_count": 21,
   "metadata": {},
   "outputs": [
    {
     "name": "stdout",
     "output_type": "stream",
     "text": [
      "Itr 0 loss: Variable containing:\n",
      " 0.3035\n",
      "[torch.FloatTensor of size 1]\n",
      "\n",
      "Itr 25 loss: Variable containing:\n",
      " 0.2685\n",
      "[torch.FloatTensor of size 1]\n",
      "\n",
      "Itr 50 loss: Variable containing:\n",
      " 0.1829\n",
      "[torch.FloatTensor of size 1]\n",
      "\n",
      "Itr 75 loss: Variable containing:\n",
      "1.00000e-02 *\n",
      "  8.7521\n",
      "[torch.FloatTensor of size 1]\n",
      "\n"
     ]
    },
    {
     "data": {
      "image/png": "[encoded data removed]",
      "text/plain": [
       "<matplotlib.figure.Figure at 0x105fbb908>"
      ]
     },
     "metadata": {},
     "output_type": "display_data"
    },
    {
     "data": {
      "image/png": "[encoded data removed]",
      "text/plain": [
       "<matplotlib.figure.Figure at 0x10624dcf8>"
      ]
     },
     "metadata": {},
     "output_type": "display_data"
    }
   ],
   "source": [
    "model = nn.Linear(1,1)\n",
    "losses = []\n",
    "data_x_v = Variable(torch.from_numpy(data_x[:,None]))\n",
    "data_y_v = Variable(torch.from_numpy(data_y))\n",
    "learning_rate = 0.0001\n",
    "\n",
    "for i in range(100):\n",
    "    loss = loss_criterion(model(data_x_v),data_y_v)\n",
    "    losses.append(float(loss.data[0]))\n",
    "    loss.backward()\n",
    "    ## *** YOUR CODE HERE TO PERFORM GRADIENT DESCENT ***\n",
    "    ## Hint: you could access gradients with model.W.grad, model.b.grad\n",
    "    ## Hint2: you could write data into a parameter with model.W.data[:] = some_numpy_array\n",
    "    ## Hint3: if your model doesn't learn, remember to try different learning rates\n",
    "    model.weight.data.sub_(learning_rate * model.weight.grad.data)\n",
    "    model.bias.data.sub_(learning_rate * model.bias.grad.data)\n",
    "    if i % 25 == 0:\n",
    "        print(\"Itr\", i, \"loss:\", loss)\n",
    "plt.plot(np.array(losses))\n",
    "plt.title(\"Learning curve\")\n",
    "plt.figure()\n",
    "plt.plot(data_x, model(data_x_v).data.numpy()[:,0], c='r')\n",
    "plt.scatter(data_x, data_y, c='b')\n",
    "_ = plt.title(\"Trained model fitness\")"
   ]
  },
  {
   "cell_type": "code",
   "execution_count": 22,
   "metadata": {},
   "outputs": [],
   "source": [
    "import torchvision.datasets as dset\n",
    "import torchvision.transforms as transforms\n",
    "\n",
    "root = '/Users/koustuv/data/'\n",
    "trans = transforms.Compose([transforms.ToTensor(), transforms.Normalize((0.5,), (1.0,))])\n",
    "train = dset.MNIST(root=root, train=True, transform=trans, download=True)\n",
    "test = dset.MNIST(root=root, train=False, transform=trans)"
   ]
  },
  {
   "cell_type": "markdown",
   "metadata": {},
   "source": [
    "Reference : https://gist.github.com/xmfbit/b27cdbff68870418bdb8cefa86a2d558"
   ]
  },
  {
   "cell_type": "code",
   "execution_count": 23,
   "metadata": {},
   "outputs": [
    {
     "name": "stdout",
     "output_type": "stream",
     "text": [
      "train[i][0] is the ith image that's flattened, and has shape: torch.Size([1, 28, 28])\n",
      "train[i][1] is the ith image's label, such as: 3\n"
     ]
    }
   ],
   "source": [
    "print(\"train[i][0] is the ith image that's flattened, and has shape:\", train[12][0].shape)\n",
    "print(\"train[i][1] is the ith image's label, such as:\", train[12][1])"
   ]
  },
  {
   "cell_type": "markdown",
   "metadata": {},
   "source": [
    "train and test are already FloatTensors"
   ]
  },
  {
   "cell_type": "code",
   "execution_count": 24,
   "metadata": {},
   "outputs": [
    {
     "data": {
      "text/plain": [
       "(28, 28)"
      ]
     },
     "execution_count": 24,
     "metadata": {},
     "output_type": "execute_result"
    }
   ],
   "source": [
    "train[12][0].numpy().squeeze(0).shape"
   ]
  },
  {
   "cell_type": "code",
   "execution_count": 25,
   "metadata": {},
   "outputs": [
    {
     "data": {
      "image/png": "[encoded data removed]",
      "text/plain": [
       "<matplotlib.figure.Figure at 0x1064976a0>"
      ]
     },
     "metadata": {},
     "output_type": "display_data"
    },
    {
     "data": {
      "image/png": "[encoded data removed]",
      "text/plain": [
       "<matplotlib.figure.Figure at 0x10994aeb8>"
      ]
     },
     "metadata": {},
     "output_type": "display_data"
    }
   ],
   "source": [
    "plt.imshow(train[12][0].numpy().squeeze(0))\n",
    "plt.title(\"Label: %s\" % train[12][1])\n",
    "plt.figure()\n",
    "plt.imshow(train[42][0].numpy().squeeze(0))\n",
    "_ = plt.title(\"Label: %s\" % train[42][1])"
   ]
  },
  {
   "cell_type": "code",
   "execution_count": 26,
   "metadata": {
    "collapsed": true
   },
   "outputs": [],
   "source": [
    "batch_size = 32\n",
    "kwargs = {'num_workers': 1, 'pin_memory': False} # pin_memory True for CUDA\n",
    "train_loader = torch.utils.data.DataLoader(\n",
    "                 dataset=train,\n",
    "                 batch_size=batch_size,\n",
    "                 shuffle=True, **kwargs)\n",
    "test_loader = torch.utils.data.DataLoader(\n",
    "                dataset=test,\n",
    "                batch_size=batch_size,\n",
    "                shuffle=False, **kwargs)"
   ]
  },
  {
   "cell_type": "code",
   "execution_count": 56,
   "metadata": {
    "collapsed": true
   },
   "outputs": [],
   "source": [
    "from collections import namedtuple, defaultdict, deque"
   ]
  },
  {
   "cell_type": "code",
   "execution_count": 78,
   "metadata": {},
   "outputs": [
    {
     "name": "stdout",
     "output_type": "stream",
     "text": [
      "==>>> epoch: 0, batch index: 0, train loss: 2.286474\n",
      "==>>> epoch: 0, batch index: 100, train loss: 0.870153\n",
      "==>>> epoch: 0, batch index: 200, train loss: 0.668066\n",
      "==>>> epoch: 0, batch index: 300, train loss: 0.431853\n",
      "==>>> epoch: 0, batch index: 400, train loss: 0.445432\n",
      "==>>> epoch: 0, batch index: 500, train loss: 0.514513\n",
      "==>>> epoch: 0, batch index: 600, train loss: 0.594494\n",
      "==>>> epoch: 0, batch index: 700, train loss: 0.401016\n",
      "==>>> epoch: 0, batch index: 800, train loss: 0.423016\n",
      "==>>> epoch: 0, batch index: 900, train loss: 0.483836\n",
      "==>>> epoch: 0, batch index: 1000, train loss: 0.479537\n",
      "==>>> epoch: 0, batch index: 1100, train loss: 0.703239\n",
      "==>>> epoch: 0, batch index: 1200, train loss: 0.289755\n",
      "==>>> epoch: 0, batch index: 1300, train loss: 0.457936\n",
      "==>>> epoch: 0, batch index: 1400, train loss: 0.228384\n",
      "==>>> epoch: 0, batch index: 1500, train loss: 0.261497\n",
      "==>>> epoch: 0, batch index: 1600, train loss: 0.335850\n",
      "==>>> epoch: 0, batch index: 1700, train loss: 0.572073\n",
      "==>>> epoch: 0, batch index: 1800, train loss: 0.295014\n",
      "==>>> epoch: 0, test loss: 0.345560, accuracy: 0.9026\n",
      "==>>> epoch: 1, batch index: 0, train loss: 0.521755\n",
      "==>>> epoch: 1, batch index: 100, train loss: 0.197893\n",
      "==>>> epoch: 1, batch index: 200, train loss: 0.317915\n",
      "==>>> epoch: 1, batch index: 300, train loss: 0.212134\n",
      "==>>> epoch: 1, batch index: 400, train loss: 0.456602\n",
      "==>>> epoch: 1, batch index: 500, train loss: 0.107100\n",
      "==>>> epoch: 1, batch index: 600, train loss: 0.172307\n",
      "==>>> epoch: 1, batch index: 700, train loss: 0.350998\n",
      "==>>> epoch: 1, batch index: 800, train loss: 0.162652\n",
      "==>>> epoch: 1, batch index: 900, train loss: 0.136755\n",
      "==>>> epoch: 1, batch index: 1000, train loss: 0.269518\n",
      "==>>> epoch: 1, batch index: 1100, train loss: 0.322904\n",
      "==>>> epoch: 1, batch index: 1200, train loss: 0.378956\n",
      "==>>> epoch: 1, batch index: 1300, train loss: 0.369590\n",
      "==>>> epoch: 1, batch index: 1400, train loss: 0.222042\n",
      "==>>> epoch: 1, batch index: 1500, train loss: 0.459340\n",
      "==>>> epoch: 1, batch index: 1600, train loss: 0.336510\n",
      "==>>> epoch: 1, batch index: 1700, train loss: 0.297890\n",
      "==>>> epoch: 1, batch index: 1800, train loss: 0.267257\n",
      "==>>> epoch: 1, test loss: 0.315416, accuracy: 0.9090\n"
     ]
    }
   ],
   "source": [
    "def run(model, num_epochs=2):\n",
    "    \n",
    "    params = model.parameters()\n",
    "    optimizer = optim.Adam(params)\n",
    "    loss_criterion = nn.CrossEntropyLoss()\n",
    "    \n",
    "    stats = defaultdict(lambda: deque(maxlen=25))\n",
    "    for epoch in range(num_epochs):\n",
    "        \n",
    "        for batch_idx, (x, target) in enumerate(train_loader):\n",
    "            optimizer.zero_grad()\n",
    "            xs, ys = Variable(x), Variable(target)\n",
    "            \n",
    "            # modify the inputs so that we save the last layer as 28x28\n",
    "            xs = xs.squeeze(1)\n",
    "            xs = xs.view(xs.size(0),-1)\n",
    "            \n",
    "\n",
    "            logits = model(xs)\n",
    "\n",
    "            loss = loss_criterion(logits, ys)\n",
    "            loss.backward()\n",
    "            optimizer.step()\n",
    "            \n",
    "            if batch_idx % 100 == 0:\n",
    "                print '==>>> epoch: {}, batch index: {}, train loss: {:.6f}'.format(epoch, batch_idx, loss.data[0])\n",
    "\n",
    "        correct_cnt, ave_loss = 0, 0\n",
    "        for batch_idx, (x, target) in enumerate(test_loader):\n",
    "            x, ys = Variable(x, volatile=True), Variable(target, volatile=True)\n",
    "            x = x.squeeze(1).view(x.size(0),-1)\n",
    "            logits = model(x)\n",
    "            loss = loss_criterion(logits, ys)\n",
    "            _, pred_label = torch.max(logits.data, 1)\n",
    "            correct_cnt += (pred_label == ys.data).sum()\n",
    "            ave_loss += loss.data[0]\n",
    "        accuracy = correct_cnt*1.0/len(test_loader)/batch_size\n",
    "        ave_loss /= len(test_loader)\n",
    "        print '==>>> epoch: {}, test loss: {:.6f}, accuracy: {:.4f}'.format(epoch, ave_loss, accuracy)\n",
    "\n",
    "# try a simple linear model\n",
    "run(nn.Linear(784,10))"
   ]
  },
  {
   "cell_type": "code",
   "execution_count": null,
   "metadata": {
    "collapsed": true
   },
   "outputs": [],
   "source": [
    "class MLP(nn.Module):\n",
    "\n",
    "    def __init__(self, n_units, n_out):\n",
    "        super(MLP, self).__init__()\n",
    "        self.l1 = nn.Linear(n_in, n_units)  # n_in -> n_units\n",
    "        self.l2 = nn.Linear(n_units, n_units)  # n_units -> n_units\n",
    "        self.l3 = nn.Linear(n_units, n_out)  # n_units -> n_out\n",
    "\n",
    "    def __call__(self, x):\n",
    "        # *** YOUR CODE HERE TO BUILD AN MLP W/ self.l1, self.l2, self.l3 ***\n",
    "        # \n",
    "        # Hint: you should make use of non-linearities / activation functions\n",
    "        #     https://docs.chainer.org/en/stable/reference/functions.html#activation-functions\n",
    "        raise NotImplementedError()\n",
    "run(MLP(200, 10))"
   ]
  }
 ],
 "metadata": {
  "kernelspec": {
   "display_name": "Python 3",
   "language": "python",
   "name": "python3"
  },
  "language_info": {
   "codemirror_mode": {
    "name": "ipython",
    "version": 3
   },
   "file_extension": ".py",
   "mimetype": "text/x-python",
   "name": "python",
   "nbconvert_exporter": "python",
   "pygments_lexer": "ipython3",
   "version": "3.5.3"
  }
 },
 "nbformat": 4,
 "nbformat_minor": 2
}
